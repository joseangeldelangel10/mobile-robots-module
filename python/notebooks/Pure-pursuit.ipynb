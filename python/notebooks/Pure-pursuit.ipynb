{
 "cells": [
  {
   "cell_type": "markdown",
   "id": "dbcc117c",
   "metadata": {},
   "source": [
    "# Pure pursuit\n",
    "A trajectory is provided in the form of a sequence of waypoints that the robot should pass (near) by on the way to the goal, which is the last waypoint in the sequence. The last step of the pure pursuit is approaching the goal point (last waypoint) using the go-to-goal behavior implemented for the robot. At some intermediate step in the trajectory following, we can illustrate the situation as in the figure below. The current waypoint is $p_k$ and the next waypoint is $p_{k+1}$. The intermediate goal point towards which the robot is to be steered, is a point on the trajectory which is at the distance $L$ from the robot. In the figure three different scenarios are depicted.\n",
    "<img src=\"https://github.com/robotica-cem/mobile-robots-module/blob/main/figures/pure-pursuit.png?raw=true\" width=\"600\"/>\n",
    "\n"
   ]
  },
  {
   "cell_type": "markdown",
   "id": "923d9871",
   "metadata": {},
   "source": [
    "The intermediate goal point satisfies the equation\n",
    "$$ ||p_k + \\beta w_k||^2 = L^2, $$\n",
    "where $w_k = p_{k+1} - p_k$ is a vector and $\\beta$ is a scalar. \n",
    "\n",
    "A necessary step in the pure-pursuit algorithm is determining the intermediate goal point. This function should take as input the current and next waypoints (expressed in the robot-centric reference frame) and the look-ahead distance $L$. The returned value should be the goal point, and the value of $\\beta$. "
   ]
  },
  {
   "cell_type": "code",
   "execution_count": 2,
   "id": "fda98ef5",
   "metadata": {},
   "outputs": [],
   "source": [
    "import numpy as np\n",
    "import doctest"
   ]
  },
  {
   "cell_type": "code",
   "execution_count": 4,
   "id": "2a794854",
   "metadata": {},
   "outputs": [],
   "source": [
    "def get_goalpoint(p0, p1, L):\n",
    "    \"\"\"\n",
    "    Returns the intermediate goal point for the pure pursuit algorithm. If no point\n",
    "    on the line going through p0 and p1 is at distance L from the origin, then the \n",
    "    returned beta should be a nan.\n",
    "    \n",
    "    Arguments\n",
    "    ---------\n",
    "    p0  :  array-like (2,)\n",
    "           The current waypoint.\n",
    "    p1  :  array-like (2,)\n",
    "           The next waypoint.\n",
    "    L   :  float\n",
    "           The look-ahead distance\n",
    "           \n",
    "    Returns\n",
    "    -------\n",
    "    pg   :  ndarray (2,)\n",
    "            The intermediate goal point\n",
    "    beta :  float\n",
    "            The value giving the position of the goal point on the line connectin p0 and p1.\n",
    "            \n",
    "    Tests\n",
    "    -----\n",
    "    >>> p, b = get_goalpoint([0,0], [2,0], 1)\n",
    "    >>> np.allclose(b, 0.5)\n",
    "    True\n",
    "    >>> np.allclose(p, [1, 0])\n",
    "    True\n",
    "    \n",
    "    >>> p, b = get_goalpoint([0,1], [2,1], np.sqrt(2))\n",
    "    >>> np.allclose(b, 0.5)\n",
    "    True\n",
    "    >>> np.allclose(p, [1, 1])\n",
    "    True\n",
    "  \n",
    "    >>> p, b = get_goalpoint([0,1], [2,1], 0.8)\n",
    "    >>> np.isnan(b)\n",
    "    True\n",
    "    \n",
    "    \"\"\"\n",
    "    \n",
    "    b = np.nan\n",
    "    p = np.array([1.0, 1.0])\n",
    "    \n",
    "    return p, b"
   ]
  },
  {
   "cell_type": "code",
   "execution_count": 5,
   "id": "25ce2ca1",
   "metadata": {},
   "outputs": [
    {
     "name": "stdout",
     "output_type": "stream",
     "text": [
      "**********************************************************************\n",
      "File \"__main__\", line 26, in NoName\n",
      "Failed example:\n",
      "    np.allclose(b, 0.5)\n",
      "Expected:\n",
      "    True\n",
      "Got:\n",
      "    False\n",
      "**********************************************************************\n",
      "File \"__main__\", line 28, in NoName\n",
      "Failed example:\n",
      "    np.allclose(p, [1, 0])\n",
      "Expected:\n",
      "    True\n",
      "Got:\n",
      "    False\n",
      "**********************************************************************\n",
      "File \"__main__\", line 32, in NoName\n",
      "Failed example:\n",
      "    np.allclose(b, 0.5)\n",
      "Expected:\n",
      "    True\n",
      "Got:\n",
      "    False\n",
      "**********************************************************************\n",
      "File \"__main__\", line 34, in NoName\n",
      "Failed example:\n",
      "    np.allclose(p, [-1, 1])\n",
      "Expected:\n",
      "    True\n",
      "Got:\n",
      "    False\n"
     ]
    }
   ],
   "source": [
    "# Run doctest\n",
    "doctest.run_docstring_examples(get_goalpoint, globals(), verbose=False)"
   ]
  },
  {
   "cell_type": "code",
   "execution_count": null,
   "id": "b8f6f535",
   "metadata": {},
   "outputs": [],
   "source": []
  }
 ],
 "metadata": {
  "kernelspec": {
   "display_name": "Python 3 (ipykernel)",
   "language": "python",
   "name": "python3"
  },
  "language_info": {
   "codemirror_mode": {
    "name": "ipython",
    "version": 3
   },
   "file_extension": ".py",
   "mimetype": "text/x-python",
   "name": "python",
   "nbconvert_exporter": "python",
   "pygments_lexer": "ipython3",
   "version": "3.8.11"
  }
 },
 "nbformat": 4,
 "nbformat_minor": 5
}
