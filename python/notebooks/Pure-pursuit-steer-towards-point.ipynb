{
 "cells": [
  {
   "cell_type": "markdown",
   "id": "dbcc117c",
   "metadata": {},
   "source": [
    "# Pure pursuit\n",
    "A trajectory is provided in the form of a sequence of waypoints that the robot should pass (near) by on the way to the goal, which is the last waypoint in the sequence. The last step of the pure pursuit is approaching the goal point (last waypoint) using the go-to-goal behavior implemented for the robot. At some intermediate step in the trajectory following, we can illustrate the situation as in the figure below. The current waypoint is $p_k$ and the next waypoint is $p_{k+1}$. The intermediate goal point towards which the robot is to be steered, is a point on the trajectory which is at the distance $L$ from the robot.\n",
    "<img src=\"https://github.com/robotica-cem/mobile-robots-module/blob/main/figures/pure-pursuit-steering.png?raw=true\" width=\"600\"/>\n",
    "\n"
   ]
  },
  {
   "cell_type": "markdown",
   "id": "923d9871",
   "metadata": {},
   "source": [
    "The intermediate goal point satisfies the equation\n",
    "$$ ||p_k + \\beta w_k||^2 = L^2, $$\n",
    "where $w_k = p_{k+1} - p_k$ is a vector and $\\beta$ is a scalar. \n",
    "\n",
    "Once the goal point is found\n",
    "$$ p_g = \\begin{bmatrix}x\\\\y\\\\\\end{bmatrix},$$\n",
    "we determine the radius $R$ of the circular path that will make the robot intersect the goal point."
   ]
  },
  {
   "cell_type": "code",
   "execution_count": null,
   "id": "a3c35be3",
   "metadata": {},
   "outputs": [],
   "source": []
  },
  {
   "cell_type": "code",
   "execution_count": 3,
   "id": "fda98ef5",
   "metadata": {},
   "outputs": [],
   "source": [
    "import numpy as np\n",
    "import doctest"
   ]
  },
  {
   "cell_type": "code",
   "execution_count": 10,
   "id": "2a794854",
   "metadata": {},
   "outputs": [],
   "source": [
    "def steer_towards_point_controller(x, y, v):\n",
    "    \"\"\"\n",
    "    Given an intermediate goal point and a (constant) linear velocity, calculates the\n",
    "    angular velocity that will steer the robot towards the goal such that the robot\n",
    "    moves in a circular arc that passes through the intermediate goal point.\n",
    "\n",
    "    Arguments\n",
    "    ---------\n",
    "    x     :  float\n",
    "      The x-coordinate of the goal in the reference frame of the robot, in m\n",
    "    y     :  float\n",
    "      The x-coordinate of the goal in the reference frame of the robot, in m\n",
    "    v     :  float\n",
    "      The linear velocity in m/s\n",
    "\n",
    "    Returns\n",
    "    ---------\n",
    "    w   :  float\n",
    "      The angular velocity in rad/s\n",
    "\n",
    "    Tests\n",
    "    -----\n",
    "    1) Goal point directly to the left of the robot. Move in half circle to get there\n",
    "    >>> w = steer_towards_point_controller(0, 2, 1)\n",
    "    >>> \"w = %0.2f\" %(w,)\n",
    "    'w = 1.00'\n",
    "    \n",
    "    2) Goal at (1, -1). Move in quarter circle towards the right to get there.\n",
    "    >>> w = steer_towards_point_controller(1, -1, 1)\n",
    "    >>> \"w = %0.2f\" %(w,)\n",
    "    'w = -1.00'\n",
    "   \n",
    "\n",
    "    \"\"\"\n",
    "\n",
    "    w = 0.0\n",
    "    return w"
   ]
  },
  {
   "cell_type": "code",
   "execution_count": 11,
   "id": "25ce2ca1",
   "metadata": {},
   "outputs": [
    {
     "name": "stdout",
     "output_type": "stream",
     "text": [
      "**********************************************************************\n",
      "File \"__main__\", line 25, in NoName\n",
      "Failed example:\n",
      "    \"w = %0.2f\" %(w,)\n",
      "Expected:\n",
      "    'w = 1.00'\n",
      "Got:\n",
      "    'w = 0.00'\n",
      "**********************************************************************\n",
      "File \"__main__\", line 30, in NoName\n",
      "Failed example:\n",
      "    \"w = %0.2f\" %(w,)\n",
      "Expected:\n",
      "    'w = -1.00'\n",
      "Got:\n",
      "    'w = 0.00'\n"
     ]
    }
   ],
   "source": [
    "# Run doctest\n",
    "doctest.run_docstring_examples(steer_towards_point_controller, globals(), verbose=False)"
   ]
  },
  {
   "cell_type": "code",
   "execution_count": null,
   "id": "b8f6f535",
   "metadata": {},
   "outputs": [],
   "source": []
  }
 ],
 "metadata": {
  "kernelspec": {
   "display_name": "Python 3 (ipykernel)",
   "language": "python",
   "name": "python3"
  },
  "language_info": {
   "codemirror_mode": {
    "name": "ipython",
    "version": 3
   },
   "file_extension": ".py",
   "mimetype": "text/x-python",
   "name": "python",
   "nbconvert_exporter": "python",
   "pygments_lexer": "ipython3",
   "version": "3.8.11"
  }
 },
 "nbformat": 4,
 "nbformat_minor": 5
}
