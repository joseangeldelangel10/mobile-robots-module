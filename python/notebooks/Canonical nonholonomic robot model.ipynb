{
 "cells": [
  {
   "cell_type": "markdown",
   "metadata": {},
   "source": [
    "# The canonical nonholonomic robot model\n",
    "The model (also known as the unicycle model) is described by \n",
    "$$ \\begin{bmatrix} \\dot{\\theta} \\\\ \\dot{x} \\\\ \\dot{y} \\end{bmatrix} = \\begin{bmatrix} \\omega \\\\ v\\cos\\theta \\\\ v\\sin\\theta \\end{bmatrix}, $$\n",
    "where $v$ is the linear velocity and $\\omega$ is the angular velocity, both of which are considered input signals to the model.\n",
    "\n",
    "With certain limitations on the input signals both differential drive robots and car-like robots can be described by the above model.\n"
   ]
  },
  {
   "cell_type": "markdown",
   "metadata": {},
   "source": [
    "## Differential drive robot\n",
    "\n",
    "<img src=\"https://github.com/robotica-cem/mobile-robots-module/blob/main/figures/unicycle-model-details.png?raw=true\" width=\"600\"/>\n",
    "The robot has two independent input signals, the angular velocity of each wheel, $\\omega_L$ and $\\omega_R$. \n",
    "\n",
    "Determine the relationship between the wheel angular velocities and the linear and angular velocity of the canonical model."
   ]
  },
  {
   "cell_type": "code",
   "execution_count": null,
   "metadata": {},
   "outputs": [],
   "source": [
    "import numpy as np\n",
    "import matplotlib.pyplot as plt\n",
    "import doctest\n",
    "%matplotlib notebook"
   ]
  },
  {
   "cell_type": "code",
   "execution_count": null,
   "metadata": {},
   "outputs": [],
   "source": [
    "def diffdrive2canonical(wL, wR, r=0.1, d=0.2):\n",
    "    \"\"\"\n",
    "    Returns the linear and angular velocity of the canonical robot model given the \n",
    "    angular velocities of each wheel.\n",
    "    \n",
    "    Arguments\n",
    "    ---------\n",
    "       wL  :  float \n",
    "              The angular velocity of the left wheel in rad/s.\n",
    "       wR  :  float \n",
    "              The angular velocity of the right wheel in rad/s.\n",
    "              \n",
    "    Returns\n",
    "    --------\n",
    "       w  :  float \n",
    "             The angular velocity of the canonical model in rad/s.\n",
    "       v  :  float \n",
    "             The linear velocity of the canonical model in m/s.\n",
    "             \n",
    "    Tests\n",
    "    ------\n",
    "    1) Equal but opposite angular velocities give only angular velocity.\n",
    "    >>> w, v = diffdrive2canonical(1,-1)\n",
    "    >>> print(\"v = %0.1f\" % (v))\n",
    "    v = 0.0\n",
    "    \n",
    "    2) Equal angular velocities give only linear velocity\n",
    "    >>> w, v = diffdrive2canonical(1,1)\n",
    "    >>> print(\"w = %0.1f\" % (w))\n",
    "    w = 0.0\n",
    "    \n",
    "    \"\"\"\n",
    "    \n",
    "    w = 1\n",
    "    v = 1\n",
    "    return (w,v)\n"
   ]
  },
  {
   "cell_type": "code",
   "execution_count": null,
   "metadata": {},
   "outputs": [],
   "source": [
    "# Run doctest\n",
    "doctest.run_docstring_examples(diffdrive2canonical, globals(), verbose=False)"
   ]
  },
  {
   "cell_type": "code",
   "execution_count": null,
   "metadata": {},
   "outputs": [],
   "source": [
    "def canonical2diffdrive(w, v, r=0.1, d=0.2):\n",
    "    \"\"\"\n",
    "    Returns the angular velocities of the two wheels, respectively, of a differential\n",
    "    drive robot corresponding to a certain angular and linear velocity of the canonical model.\n",
    "    \n",
    "    Arguments\n",
    "    ---------\n",
    "       w  :  float\n",
    "             The angular velocity in rad/s.\n",
    "       v  :  float\n",
    "             The linear velocity in m/s.\n",
    "             \n",
    "    Returns\n",
    "    -------\n",
    "       wL  :  float\n",
    "              The angular velocity of the left wheel in rad/s\n",
    "       wR  :  float\n",
    "              The angular velocity of the right wheel in rad/s\n",
    "              \n",
    "    Tests\n",
    "    -----\n",
    "    \n",
    "    1) Only linear velocity gives same wheel velocities.\n",
    "    >>> wL, wR = canonical2diffdrive(0, 1)\n",
    "    >>> wL == wR\n",
    "    True\n",
    "\n",
    "    2) Only angular velocity gives same wheel velocities, but opposite sign.\n",
    "    >>> wL, wR = canonical2diffdrive(1, 0)\n",
    "    >>> wL == -wR\n",
    "    True\n",
    "\n",
    "    \"\"\"\n",
    "    \n",
    "    wL = 1.0\n",
    "    wR = 2.0\n",
    "    \n",
    "    return (wL, wR)"
   ]
  },
  {
   "cell_type": "code",
   "execution_count": null,
   "metadata": {},
   "outputs": [],
   "source": [
    "# Run doctest\n",
    "doctest.run_docstring_examples(canonical2diffdrive, globals(), verbose=False)"
   ]
  },
  {
   "cell_type": "markdown",
   "metadata": {},
   "source": [
    "### Limits on the possibe inputs\n",
    "Plot the possible range of inputs to the canonical model given limits on the wheel velocities.\n"
   ]
  },
  {
   "cell_type": "code",
   "execution_count": null,
   "metadata": {},
   "outputs": [],
   "source": [
    "# Plotting the possible range of inputs to the canonical model given limits on the wheel\n",
    "# velocities\n",
    "wmax = 10 # Just picking something\n",
    "N = 20\n",
    "wv = [ diffdrive2canonical(wL, wR) for wL in np.linspace(-wmax, wmax, 20) \\\n",
    "      for wR in np.linspace(-wmax, wmax, 20)]\n",
    "wv = np.array(wv)\n",
    "plt.figure()\n",
    "plt.plot(wv[:,1], wv[:,0], 'b.')\n",
    "plt.xlabel('v')\n",
    "plt.ylabel(r'$\\omega$')"
   ]
  },
  {
   "cell_type": "markdown",
   "metadata": {},
   "source": [
    "## Car-like robot\n",
    "Car-like robots with steering of the front axle can be simplified to the bicycle model.\n",
    "<img src=\"https://github.com/robotica-cem/mobile-robots-module/blob/main/figures/bicycle-model.png?raw=true\" width=\"800\"/> \n",
    "\n",
    "Taking the mid-point of the rear axle as the reference point of the car simplifies the kinematics. The robot will have an instantanous center of rotation (ICR) at a certain distance $R$ from the reference point. The ICR depends on the steering angle $\\phi$ and the wheel-base $L$ according to the geometry shown in the figure above. With linear velocity of the reference point $v$, the angular velocity of the robot is given by $\\omega = \\frac{v}{R} = \\gamma v$, where $\\gamma = \\frac{1}{R}$ is called the curvature.  "
   ]
  },
  {
   "cell_type": "markdown",
   "metadata": {},
   "source": [
    "The car-like robot has as its inputs the linear velocity $v$ of the rear axle, and the steering angle $\\phi$. Determine the relationship between these inputs and the linear- and angular velocities of the canonical robot model. "
   ]
  },
  {
   "cell_type": "code",
   "execution_count": null,
   "metadata": {},
   "outputs": [],
   "source": [
    "def car2canonical(vv, phi, L=0.5):\n",
    "    \"\"\"\n",
    "    Returns the linear and angular velocity of the canonical robot model given the \n",
    "    linear velocity and steering angle of the car-like robot (bicycle model). \n",
    "    \n",
    "    Arguments\n",
    "    ---------\n",
    "       vv   :  float \n",
    "              The linear velocity of the midpoint of the rear axle in m/s.\n",
    "       phi :  float \n",
    "              The steering angle in radians.\n",
    "              \n",
    "    Returns\n",
    "    --------\n",
    "       w  :  float \n",
    "             The angular velocity of the canonical model in rad/s.\n",
    "       v  :  float \n",
    "             The linear velocity of the canonical model in m/s.\n",
    "             \n",
    "    Tests\n",
    "    ------\n",
    "    1) The linear velocity of the reference point of the car is the same as the\n",
    "    linear velocity of the canonical model.\n",
    "    >>> w, v = car2canonical(1.0, 0.0)\n",
    "    >>> print(\"v = %0.1f\" % (v))\n",
    "    v = 1.0\n",
    "    \n",
    "    2) A steering angle of 45 degrees will give a transversal velocity of the \n",
    "    front wheel which is equal to the linear forward velocity of the rear wheel,\n",
    "    so the angular velocity will be given by v/L.\n",
    "    >>> vv = 1.0\n",
    "    >>> L = 0.5\n",
    "    >>> w, v = car2canonical(vv, np.pi/4, L=L)\n",
    "    >>> abs( vv/L - w ) < 1e-10\n",
    "    True\n",
    "    \n",
    "    \"\"\"\n",
    "    \n",
    "    v = vv\n",
    "    w = 0.0\n",
    "    return (w,v)\n"
   ]
  },
  {
   "cell_type": "code",
   "execution_count": null,
   "metadata": {},
   "outputs": [],
   "source": [
    "# Run doctest\n",
    "doctest.run_docstring_examples(car2canonical, globals(), verbose=False)"
   ]
  },
  {
   "cell_type": "code",
   "execution_count": null,
   "metadata": {},
   "outputs": [],
   "source": [
    "def canonical2car(w, v, L=0.5):\n",
    "    \"\"\"\n",
    "    Returns the angular velocities of the two wheels, respectively, of a differential\n",
    "    drive robot corresponding to a certain angular and linear velocity of the canonical model.\n",
    "    \n",
    "    Arguments\n",
    "    ---------\n",
    "       w  :  float\n",
    "             The angular velocity in rad/s.\n",
    "       v  :  float\n",
    "             The linear velocity in m/s.\n",
    "       L  :  float\n",
    "             The wheel-base in m.\n",
    "             \n",
    "    Returns\n",
    "    -------\n",
    "       vv  :  float\n",
    "              The linear velocity of the midpoint of the rear axle\n",
    "       phi :  float\n",
    "              The steering angle\n",
    "              \n",
    "    Tests\n",
    "    -----\n",
    "    \n",
    "    1) Only linear velocity gives zero steering angle.\n",
    "    >>> vv, phi = canonical2car(0,1)\n",
    "    >>> phi == 0\n",
    "    True\n",
    "\n",
    "    2) Angular velocity equal to vv/L should correspond to steering angle of 45 degrees.\n",
    "    >>> v = 1.0\n",
    "    >>> L = 0.8\n",
    "    >>> w = v/L\n",
    "    >>> vv, phi = canonical2car(w, v, L=L)\n",
    "    >>> abs(phi - np.pi/4) < 1e-10\n",
    "    True\n",
    "\n",
    "    \"\"\"\n",
    "    \n",
    "    vv = 1.0\n",
    "    phi = 1.0\n",
    "    \n",
    "    return (vv, phi)"
   ]
  },
  {
   "cell_type": "code",
   "execution_count": null,
   "metadata": {},
   "outputs": [],
   "source": [
    "# Run doctest\n",
    "doctest.run_docstring_examples(canonical2car, globals(), verbose=False)"
   ]
  },
  {
   "cell_type": "code",
   "execution_count": null,
   "metadata": {},
   "outputs": [],
   "source": []
  },
  {
   "cell_type": "markdown",
   "metadata": {},
   "source": [
    "### Limits on the possibe inputs\n",
    "Plot the possible range of inputs to the canonical model given limits on the wheel velocities.\n"
   ]
  },
  {
   "cell_type": "code",
   "execution_count": null,
   "metadata": {},
   "outputs": [],
   "source": [
    "# Plotting the possible range of inputs to the canonical model given limits on the\n",
    "# linear velocity and steering angle\n",
    "vmax = 10 # Just picking something\n",
    "phimax = 40*np.pi/180.0 # Typical limit \n",
    "wv = [ car2canonical(v_,phi_) for v_ in np.linspace(-vmax, vmax, 20) \\\n",
    "      for phi_ in np.linspace(-phimax, phimax, 20)]\n",
    "wv = np.array(wv)\n",
    "plt.figure()\n",
    "plt.plot(wv[:,1], wv[:,0], 'b.')\n",
    "plt.xlabel('v')\n",
    "plt.ylabel(r'$\\omega$')"
   ]
  },
  {
   "cell_type": "code",
   "execution_count": null,
   "metadata": {},
   "outputs": [],
   "source": []
  }
 ],
 "metadata": {
  "kernelspec": {
   "display_name": "Python 3",
   "language": "python",
   "name": "python3"
  },
  "language_info": {
   "codemirror_mode": {
    "name": "ipython",
    "version": 3
   },
   "file_extension": ".py",
   "mimetype": "text/x-python",
   "name": "python",
   "nbconvert_exporter": "python",
   "pygments_lexer": "ipython3",
   "version": "3.6.9"
  }
 },
 "nbformat": 4,
 "nbformat_minor": 5
}
